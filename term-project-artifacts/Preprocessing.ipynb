{
 "cells": [
  {
   "cell_type": "code",
   "execution_count": 1,
   "id": "lined-national",
   "metadata": {},
   "outputs": [],
   "source": [
    "import numpy as np\n",
    "import pandas as pd\n",
    "import matplotlib.pyplot as plt\n",
    "import tensorflow as tf\n",
    "import seaborn as sns"
   ]
  },
  {
   "cell_type": "code",
   "execution_count": 2,
   "id": "latter-conservation",
   "metadata": {},
   "outputs": [
    {
     "data": {
      "text/html": [
       "<div>\n",
       "<style scoped>\n",
       "    .dataframe tbody tr th:only-of-type {\n",
       "        vertical-align: middle;\n",
       "    }\n",
       "\n",
       "    .dataframe tbody tr th {\n",
       "        vertical-align: top;\n",
       "    }\n",
       "\n",
       "    .dataframe thead th {\n",
       "        text-align: right;\n",
       "    }\n",
       "</style>\n",
       "<table border=\"1\" class=\"dataframe\">\n",
       "  <thead>\n",
       "    <tr style=\"text-align: right;\">\n",
       "      <th></th>\n",
       "      <th>Unnamed: 0</th>\n",
       "      <th>count</th>\n",
       "      <th>hate_speech</th>\n",
       "      <th>offensive_language</th>\n",
       "      <th>neither</th>\n",
       "      <th>class</th>\n",
       "      <th>tweet</th>\n",
       "    </tr>\n",
       "  </thead>\n",
       "  <tbody>\n",
       "    <tr>\n",
       "      <th>0</th>\n",
       "      <td>0</td>\n",
       "      <td>3</td>\n",
       "      <td>0</td>\n",
       "      <td>0</td>\n",
       "      <td>3</td>\n",
       "      <td>2</td>\n",
       "      <td>!!! RT @mayasolovely: As a woman you shouldn't...</td>\n",
       "    </tr>\n",
       "    <tr>\n",
       "      <th>1</th>\n",
       "      <td>1</td>\n",
       "      <td>3</td>\n",
       "      <td>0</td>\n",
       "      <td>3</td>\n",
       "      <td>0</td>\n",
       "      <td>1</td>\n",
       "      <td>!!!!! RT @mleew17: boy dats cold...tyga dwn ba...</td>\n",
       "    </tr>\n",
       "    <tr>\n",
       "      <th>2</th>\n",
       "      <td>2</td>\n",
       "      <td>3</td>\n",
       "      <td>0</td>\n",
       "      <td>3</td>\n",
       "      <td>0</td>\n",
       "      <td>1</td>\n",
       "      <td>!!!!!!! RT @UrKindOfBrand Dawg!!!! RT @80sbaby...</td>\n",
       "    </tr>\n",
       "    <tr>\n",
       "      <th>3</th>\n",
       "      <td>3</td>\n",
       "      <td>3</td>\n",
       "      <td>0</td>\n",
       "      <td>2</td>\n",
       "      <td>1</td>\n",
       "      <td>1</td>\n",
       "      <td>!!!!!!!!! RT @C_G_Anderson: @viva_based she lo...</td>\n",
       "    </tr>\n",
       "    <tr>\n",
       "      <th>4</th>\n",
       "      <td>4</td>\n",
       "      <td>6</td>\n",
       "      <td>0</td>\n",
       "      <td>6</td>\n",
       "      <td>0</td>\n",
       "      <td>1</td>\n",
       "      <td>!!!!!!!!!!!!! RT @ShenikaRoberts: The shit you...</td>\n",
       "    </tr>\n",
       "  </tbody>\n",
       "</table>\n",
       "</div>"
      ],
      "text/plain": [
       "   Unnamed: 0  count  hate_speech  offensive_language  neither  class  \\\n",
       "0           0      3            0                   0        3      2   \n",
       "1           1      3            0                   3        0      1   \n",
       "2           2      3            0                   3        0      1   \n",
       "3           3      3            0                   2        1      1   \n",
       "4           4      6            0                   6        0      1   \n",
       "\n",
       "                                               tweet  \n",
       "0  !!! RT @mayasolovely: As a woman you shouldn't...  \n",
       "1  !!!!! RT @mleew17: boy dats cold...tyga dwn ba...  \n",
       "2  !!!!!!! RT @UrKindOfBrand Dawg!!!! RT @80sbaby...  \n",
       "3  !!!!!!!!! RT @C_G_Anderson: @viva_based she lo...  \n",
       "4  !!!!!!!!!!!!! RT @ShenikaRoberts: The shit you...  "
      ]
     },
     "execution_count": 2,
     "metadata": {},
     "output_type": "execute_result"
    }
   ],
   "source": [
    "#load and check the data\n",
    "df_origin = pd.read_csv('./dirty_data.csv')\n",
    "df_origin.head()"
   ]
  },
  {
   "cell_type": "code",
   "execution_count": 9,
   "id": "adjacent-title",
   "metadata": {},
   "outputs": [
    {
     "data": {
      "text/html": [
       "<div>\n",
       "<style scoped>\n",
       "    .dataframe tbody tr th:only-of-type {\n",
       "        vertical-align: middle;\n",
       "    }\n",
       "\n",
       "    .dataframe tbody tr th {\n",
       "        vertical-align: top;\n",
       "    }\n",
       "\n",
       "    .dataframe thead th {\n",
       "        text-align: right;\n",
       "    }\n",
       "</style>\n",
       "<table border=\"1\" class=\"dataframe\">\n",
       "  <thead>\n",
       "    <tr style=\"text-align: right;\">\n",
       "      <th></th>\n",
       "      <th>tweet</th>\n",
       "      <th>category</th>\n",
       "      <th>class</th>\n",
       "    </tr>\n",
       "  </thead>\n",
       "  <tbody>\n",
       "    <tr>\n",
       "      <th>0</th>\n",
       "      <td>!!! RT @mayasolovely: As a woman you shouldn't...</td>\n",
       "      <td>neither</td>\n",
       "      <td>2</td>\n",
       "    </tr>\n",
       "    <tr>\n",
       "      <th>1</th>\n",
       "      <td>!!!!! RT @mleew17: boy dats cold...tyga dwn ba...</td>\n",
       "      <td>offensive_lang</td>\n",
       "      <td>1</td>\n",
       "    </tr>\n",
       "    <tr>\n",
       "      <th>2</th>\n",
       "      <td>!!!!!!! RT @UrKindOfBrand Dawg!!!! RT @80sbaby...</td>\n",
       "      <td>offensive_lang</td>\n",
       "      <td>1</td>\n",
       "    </tr>\n",
       "    <tr>\n",
       "      <th>3</th>\n",
       "      <td>!!!!!!!!! RT @C_G_Anderson: @viva_based she lo...</td>\n",
       "      <td>offensive_lang</td>\n",
       "      <td>1</td>\n",
       "    </tr>\n",
       "    <tr>\n",
       "      <th>4</th>\n",
       "      <td>!!!!!!!!!!!!! RT @ShenikaRoberts: The shit you...</td>\n",
       "      <td>offensive_lang</td>\n",
       "      <td>1</td>\n",
       "    </tr>\n",
       "    <tr>\n",
       "      <th>...</th>\n",
       "      <td>...</td>\n",
       "      <td>...</td>\n",
       "      <td>...</td>\n",
       "    </tr>\n",
       "    <tr>\n",
       "      <th>24778</th>\n",
       "      <td>you's a muthaf***in lie &amp;#8220;@LifeAsKing: @2...</td>\n",
       "      <td>offensive_lang</td>\n",
       "      <td>1</td>\n",
       "    </tr>\n",
       "    <tr>\n",
       "      <th>24779</th>\n",
       "      <td>you've gone and broke the wrong heart baby, an...</td>\n",
       "      <td>neither</td>\n",
       "      <td>2</td>\n",
       "    </tr>\n",
       "    <tr>\n",
       "      <th>24780</th>\n",
       "      <td>young buck wanna eat!!.. dat nigguh like I ain...</td>\n",
       "      <td>offensive_lang</td>\n",
       "      <td>1</td>\n",
       "    </tr>\n",
       "    <tr>\n",
       "      <th>24781</th>\n",
       "      <td>youu got wild bitches tellin you lies</td>\n",
       "      <td>offensive_lang</td>\n",
       "      <td>1</td>\n",
       "    </tr>\n",
       "    <tr>\n",
       "      <th>24782</th>\n",
       "      <td>~~Ruffled | Ntac Eileen Dahlia - Beautiful col...</td>\n",
       "      <td>neither</td>\n",
       "      <td>2</td>\n",
       "    </tr>\n",
       "  </tbody>\n",
       "</table>\n",
       "<p>24783 rows × 3 columns</p>\n",
       "</div>"
      ],
      "text/plain": [
       "                                                   tweet        category  \\\n",
       "0      !!! RT @mayasolovely: As a woman you shouldn't...         neither   \n",
       "1      !!!!! RT @mleew17: boy dats cold...tyga dwn ba...  offensive_lang   \n",
       "2      !!!!!!! RT @UrKindOfBrand Dawg!!!! RT @80sbaby...  offensive_lang   \n",
       "3      !!!!!!!!! RT @C_G_Anderson: @viva_based she lo...  offensive_lang   \n",
       "4      !!!!!!!!!!!!! RT @ShenikaRoberts: The shit you...  offensive_lang   \n",
       "...                                                  ...             ...   \n",
       "24778  you's a muthaf***in lie &#8220;@LifeAsKing: @2...  offensive_lang   \n",
       "24779  you've gone and broke the wrong heart baby, an...         neither   \n",
       "24780  young buck wanna eat!!.. dat nigguh like I ain...  offensive_lang   \n",
       "24781              youu got wild bitches tellin you lies  offensive_lang   \n",
       "24782  ~~Ruffled | Ntac Eileen Dahlia - Beautiful col...         neither   \n",
       "\n",
       "       class  \n",
       "0          2  \n",
       "1          1  \n",
       "2          1  \n",
       "3          1  \n",
       "4          1  \n",
       "...      ...  \n",
       "24778      1  \n",
       "24779      2  \n",
       "24780      1  \n",
       "24781      1  \n",
       "24782      2  \n",
       "\n",
       "[24783 rows x 3 columns]"
      ]
     },
     "execution_count": 9,
     "metadata": {},
     "output_type": "execute_result"
    }
   ],
   "source": [
    "# Since we are doing a classification problem, the collumn that matters would be the class\n",
    "label = df_origin['class']\n",
    "df_origin.rename(columns ={'class':'category'}, inplace = True)\n",
    "\n",
    "#I will merge the three categorical columns into one.\n",
    "category = df_origin['category'].map({0: 'hate_speech', 1: 'offensive_lang', 2: 'neither'})\n",
    "\n",
    "#now I will merge the tweets the two columns I create with the tweets.\n",
    "tweet = df_origin['tweet']\n",
    "\n",
    "df = pd.concat([tweet,category,label], axis = 1)\n",
    "df"
   ]
  },
  {
   "cell_type": "code",
   "execution_count": 10,
   "id": "characteristic-logan",
   "metadata": {},
   "outputs": [
    {
     "data": {
      "image/png": "[encoded data removed]",
      "text/plain": [
       "<Figure size 1008x504 with 1 Axes>"
      ]
     },
     "metadata": {
      "needs_background": "light"
     },
     "output_type": "display_data"
    }
   ],
   "source": [
    "#plotting distribution of categories\n",
    "fig = plt.figure(figsize=(14,7))\n",
    "plt.title('distribution')\n",
    "graph = sns.countplot(x='category', data=df)\n",
    "for category in graph.patches:\n",
    "    height = category.get_height()"
   ]
  },
  {
   "cell_type": "markdown",
   "id": "atomic-recovery",
   "metadata": {},
   "source": [
    "### Making that text squeaky clean before any other preprocessing"
   ]
  },
  {
   "cell_type": "code",
   "execution_count": 21,
   "id": "active-williams",
   "metadata": {},
   "outputs": [],
   "source": [
    "from wordcloud import WordCloud\n",
    "import re\n",
    "import html"
   ]
  },
  {
   "cell_type": "code",
   "execution_count": 22,
   "id": "focused-roberts",
   "metadata": {},
   "outputs": [],
   "source": [
    "#cleaning text means BERT will spend less time processing useless things\n",
    "\n",
    "def clean(text: str) -> str:\n",
    "    '''Normalizes a text sample'''\n",
    "\n",
    "    # todo: deal with numbers, translate abbreviations\n",
    "    \n",
    "    # twitter specific: remove RT CC ^!\n",
    "    text = re.sub(r'(RT[:\\s])|(CC[:\\s])|(^!+)', r'', text)\n",
    "    \n",
    "    # unescape html\n",
    "    text = html.unescape(text)\n",
    "    # remove mentions\n",
    "    text = re.sub(r'(^|.)@[^\\s]*', r'', text)\n",
    "    # remove urls\n",
    "    text = re.sub(r'https?:\\/\\/[^\\s]*', r'', text)\n",
    "    # remove unwanted characters\n",
    "    text = re.sub(r\"[^\\w\\s\\d']+\", r' ', text)\n",
    "    # remove repeated special characters\n",
    "    text = re.sub(r\"(['])[']+\", r'\\1', text)\n",
    "    # remove extra spaces\n",
    "    text = re.sub(r'\\s{2,}', r' ', text)\n",
    "    \n",
    "    return text"
   ]
  },
  {
   "cell_type": "code",
   "execution_count": 25,
   "id": "induced-message",
   "metadata": {},
   "outputs": [
    {
     "data": {
      "text/plain": [
       "0     As a woman you shouldn't complain about clean...\n",
       "1     boy dats cold tyga dwn bad for cuffin dat hoe...\n",
       "2     Dawg You ever fuck a bitch and she start to c...\n",
       "3                               she look like a tranny\n",
       "4     The shit you hear about me might be true or i...\n",
       "Name: tweet, dtype: object"
      ]
     },
     "execution_count": 25,
     "metadata": {},
     "output_type": "execute_result"
    }
   ],
   "source": [
    "df_cleaned = df.copy()\n",
    "df_cleaned['tweet'] = df_cleaned['tweet'].apply(clean)\n",
    "df_cleaned['tweet'].head()"
   ]
  },
  {
   "cell_type": "code",
   "execution_count": 26,
   "id": "coated-proportion",
   "metadata": {},
   "outputs": [],
   "source": [
    "df_cleaned.to_csv('clean_v1.csv')"
   ]
  },
  {
   "cell_type": "markdown",
   "id": "accompanied-cooperation",
   "metadata": {},
   "source": [
    "### Preprocessing to balance out categories to continue later..."
   ]
  },
  {
   "cell_type": "code",
   "execution_count": null,
   "id": "developing-partnership",
   "metadata": {},
   "outputs": [],
   "source": []
  }
 ],
 "metadata": {
  "kernelspec": {
   "display_name": "SCE",
   "language": "python",
   "name": "sce"
  },
  "language_info": {
   "codemirror_mode": {
    "name": "ipython",
    "version": 3
   },
   "file_extension": ".py",
   "mimetype": "text/x-python",
   "name": "python",
   "nbconvert_exporter": "python",
   "pygments_lexer": "ipython3",
   "version": "3.8.8"
  }
 },
 "nbformat": 4,
 "nbformat_minor": 5
}
